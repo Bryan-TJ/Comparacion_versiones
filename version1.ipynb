{
  "nbformat": 4,
  "nbformat_minor": 0,
  "metadata": {
    "colab": {
      "provenance": []
    },
    "kernelspec": {
      "name": "python3",
      "display_name": "Python 3"
    },
    "language_info": {
      "name": "python"
    }
  },
  "cells": [
    {
      "cell_type": "code",
      "execution_count": null,
      "metadata": {
        "id": "9GQxIu7un6a2"
      },
      "outputs": [],
      "source": []
    },
    {
      "cell_type": "markdown",
      "source": [
        "Comparación con Git\n",
        "Grabar un video ejecutando las siguientes acciones en Git y en cada herramienta:\n",
        "§ Crear un repositorio.\n",
        "§ Realizar commits.\n",
        "§ Crear y fusionar una rama.\n",
        "§ Revertir un cambio.\n"
      ],
      "metadata": {
        "id": "Wjv44Ut3n-WZ"
      }
    },
    {
      "cell_type": "markdown",
      "source": [
        "#reversión de cambio\n",
        "\n",
        "1.   Elemento de lista\n",
        "2.   Elemento de lista\n",
        "\n"
      ],
      "metadata": {
        "id": "StodfM5Rp8lE"
      }
    }
  ]
}